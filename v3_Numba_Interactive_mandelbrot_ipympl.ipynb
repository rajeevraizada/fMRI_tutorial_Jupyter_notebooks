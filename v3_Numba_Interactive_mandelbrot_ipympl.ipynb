{
  "nbformat": 4,
  "nbformat_minor": 0,
  "metadata": {
    "colab": {
      "provenance": [],
      "authorship_tag": "ABX9TyNTeh2ziSITmC5hXjm1+AGT",
      "include_colab_link": true
    },
    "kernelspec": {
      "name": "python3",
      "display_name": "Python 3"
    },
    "language_info": {
      "name": "python"
    }
  },
  "cells": [
    {
      "cell_type": "markdown",
      "metadata": {
        "id": "view-in-github",
        "colab_type": "text"
      },
      "source": [
        "<a href=\"https://colab.research.google.com/github/rajeevraizada/fMRI_tutorial_Jupyter_notebooks/blob/master/v3_Numba_Interactive_mandelbrot_ipympl.ipynb\" target=\"_parent\"><img src=\"https://colab.research.google.com/assets/colab-badge.svg\" alt=\"Open In Colab\"/></a>"
      ]
    },
    {
      "cell_type": "code",
      "execution_count": null,
      "metadata": {
        "id": "q1JAGp6bNkF4"
      },
      "outputs": [],
      "source": [
        "!pip install ipympl\n",
        "!pip install line_profiler\n",
        "%load_ext line_profiler\n",
        "from line_profiler import LineProfiler\n",
        "%matplotlib ipympl\n",
        "from google.colab import output\n",
        "output.enable_custom_widget_manager()\n",
        "import matplotlib.pyplot as plt\n",
        "import matplotlib\n",
        "import numpy as np\n",
        "from numba import jit, njit\n",
        "import time"
      ]
    },
    {
      "cell_type": "code",
      "source": [
        "# This is the function which gets called when the mouse is clicked in the figure window\n",
        "def do_this_when_the_mouse_is_clicked(this_event):\n",
        "    global xmin\n",
        "    global xmax\n",
        "    global ymin\n",
        "    global ymax\n",
        "    global num_grid_points\n",
        "    global zoom_per_click\n",
        "    mouse_x = this_event.xdata\n",
        "    mouse_y = this_event.ydata\n",
        "    xrange = xmax - xmin\n",
        "    yrange = ymax - ymin\n",
        "    ### If the click is outside the range, then reset the view\n",
        "    if this_event.xdata is None: # This means we clicked outside the axis\n",
        "        xmin = -2\n",
        "        xmax = 0.5\n",
        "        ymin = -1.25\n",
        "        ymax = 1.25\n",
        "    else: # We clicked inside the axis\n",
        "        # Make new xmin,xmax etc. values, to zoom in on where mouse was clicked\n",
        "        xmin = mouse_x - xrange/(2*zoom_per_click)\n",
        "        xmax = mouse_x + xrange/(2*zoom_per_click)\n",
        "        ymin = mouse_y - yrange/(2*zoom_per_click)\n",
        "        ymax = mouse_y + yrange/(2*zoom_per_click)\n",
        "\n",
        "    max_its = np.real( 5 * (round(-np.log2(xrange)))**2.5 )\n",
        "    #print(max_its)\n",
        "    # Make sure that max_its is an integer and between 100 and 10,000\n",
        "    max_its = int(np.max((max_its,100)))\n",
        "    max_its = np.min( (max_its, 10**4) )\n",
        "\n",
        "    t0 = time.perf_counter()\n",
        "    timesteps_in_bound = raj_mandel_looped(xmin,xmax,ymin,ymax,num_grid_points,max_its)\n",
        "    t1 = time.perf_counter()\n",
        "    plt.clf()\n",
        "    cmap_custom = matplotlib.cm.gnuplot2\n",
        "    cmap_custom.set_over('k')\n",
        "    vals_to_plot = timesteps_in_bound + 1\n",
        "    cut_off_val = 0.99* np.log(np.max(vals_to_plot))\n",
        "    plt.imshow(np.log(vals_to_plot),extent=[xmin,xmax,ymin,ymax],\\\n",
        "                origin='lower',cmap=cmap_custom, vmax=cut_off_val )\n",
        "    plt.title('Magnification: %i   Iters: %i   Time: %.3fs' \\\n",
        "              %((2.5/(xmax-xmin)),max_its,(t1-t0)), fontsize=14)\n",
        "    plt.xlabel('Click on where you want to zoom in. Click outside axes to reset.')\n",
        "    plt.draw()\n",
        "\n",
        "@njit\n",
        "def mandel_one_pixel(c,max_its):\n",
        "    z_old = 0\n",
        "    for this_iter_num in range(0,max_its):\n",
        "        z_new = z_old**2 + c\n",
        "        abs_val_sq = np.real(z_new)**2 + np.imag(z_new)**2\n",
        "        if abs_val_sq > 4:\n",
        "            return(this_iter_num)\n",
        "        else:\n",
        "            z_old = z_new\n",
        "    return(this_iter_num)\n",
        "\n",
        "@njit\n",
        "def raj_mandel_looped(xmin,xmax,ymin,ymax,num_grid_points,max_its):\n",
        "    real_range = np.linspace(xmin,xmax,num_grid_points)\n",
        "    imag_range = np.linspace(ymin,ymax,num_grid_points)\n",
        "    timesteps_in_bound = np.zeros((num_grid_points,num_grid_points))\n",
        "    for x_idx, x in enumerate(real_range):\n",
        "        for y_idx, y in enumerate(imag_range):\n",
        "            c = complex(x,y)\n",
        "            # Note that rows in the matrix go up and down, so they span\n",
        "            # the complex dimension. And cols go left-right, which is real!\n",
        "            # So, we need to swap x_idx and y_idx below from what you might expect\n",
        "            timesteps_in_bound[y_idx,x_idx] = mandel_one_pixel(c,max_its)\n",
        "    return(timesteps_in_bound)\n",
        "\n",
        "xmin = -2\n",
        "xmax = 0.5\n",
        "ymin = -1.25\n",
        "ymax = 1.25\n",
        "zoom_per_click = 2\n",
        "num_grid_points = 600\n",
        "max_its = 100\n",
        "\n",
        "timesteps_in_bound = raj_mandel_looped(xmin,xmax,ymin,ymax,num_grid_points,max_its)\n",
        "\n",
        "plt.close('all')\n",
        "plt.figure(figsize=(7,7))\n",
        "cmap_custom = matplotlib.cm.gnuplot2\n",
        "cmap_custom.set_over('k')\n",
        "vals_to_plot = timesteps_in_bound+1\n",
        "cut_off_val = 0.99* np.log(np.max(vals_to_plot))\n",
        "plt.imshow(np.log(vals_to_plot),extent=[xmin,xmax,ymin,ymax],\\\n",
        "                origin='lower',cmap=cmap_custom, vmax=cut_off_val )\n",
        "\n",
        "plt.connect('button_press_event', do_this_when_the_mouse_is_clicked)\n",
        "plt.xlabel('Click on where you want to zoom in. Click outside axes to reset.')\n",
        "plt.show()\n"
      ],
      "metadata": {
        "id": "cd7Qh9lCPEMZ"
      },
      "execution_count": null,
      "outputs": []
    }
  ]
}